{
  "nbformat": 4,
  "nbformat_minor": 0,
  "metadata": {
    "colab": {
      "provenance": []
    },
    "kernelspec": {
      "name": "python3",
      "display_name": "Python 3"
    },
    "language_info": {
      "name": "python"
    }
  },
  "cells": [
    {
      "cell_type": "code",
      "execution_count": null,
      "metadata": {
        "id": "UwhpoQmLJDUW"
      },
      "outputs": [],
      "source": [
        "import pandas as pd\n",
        "import numpy as np\n",
        "from sklearn.model_selection import train_test_split\n",
        "from sklearn.preprocessing import StandardScaler\n",
        "from sklearn.svm import SVC\n",
        "from sklearn.metrics import accuracy_score\n",
        "import pickle\n",
        "\n",
        "# Cargar el dataset procesado\n",
        "data = pd.read_csv('data_evaluacion_processed.csv')\n",
        "\n",
        "# Separar características y etiqueta\n",
        "X = data.drop('salary', axis=1)\n",
        "y = data['salary']\n",
        "\n",
        "# Dividir los datos en conjuntos de entrenamiento y prueba\n",
        "X_train, X_test, y_train, y_test = train_test_split(X, y, test_size=0.3, random_state=42)\n",
        "\n",
        "# Normalizar los datos\n",
        "scaler = StandardScaler()\n",
        "X_train_scaled = scaler.fit_transform(X_train)\n",
        "X_test_scaled = scaler.transform(X_test)\n",
        "\n",
        "# Entrenar el modelo SVM con kernel RBF\n",
        "svm_rbf = SVC(kernel='rbf')\n",
        "svm_rbf.fit(X_train_scaled, y_train)\n",
        "\n",
        "# Guardar el modelo en un archivo pickle\n",
        "with open('svm_rbf_model.pkl', 'wb') as file:\n",
        "    pickle.dump(svm_rbf, file)\n",
        "\n",
        "# Guardar el scaler en un archivo pickle\n",
        "with open('scaler.pkl', 'wb') as file:\n",
        "    pickle.dump(scaler, file)\n",
        "\n",
        "print('Modelo y scaler guardados exitosamente.')\n"
      ]
    }
  ]
}