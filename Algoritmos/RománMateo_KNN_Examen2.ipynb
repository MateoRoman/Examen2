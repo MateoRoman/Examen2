{
  "nbformat": 4,
  "nbformat_minor": 0,
  "metadata": {
    "colab": {
      "provenance": []
    },
    "kernelspec": {
      "name": "python3",
      "display_name": "Python 3"
    },
    "language_info": {
      "name": "python"
    }
  },
  "cells": [
    {
      "cell_type": "code",
      "execution_count": null,
      "metadata": {
        "id": "AK_H4oWj6vxy"
      },
      "outputs": [],
      "source": [
        "import pandas as pd\n",
        "import numpy as np\n",
        "from sklearn.model_selection import train_test_split\n",
        "from sklearn.preprocessing import StandardScaler\n",
        "from sklearn.neighbors import KNeighborsClassifier\n",
        "from sklearn.metrics import accuracy_score"
      ]
    },
    {
      "cell_type": "code",
      "source": [
        "# Cargar el dataset procesado\n",
        "data = pd.read_csv('data_evaluacion_processed.csv')"
      ],
      "metadata": {
        "id": "qRtDnIUdCo5d"
      },
      "execution_count": null,
      "outputs": []
    },
    {
      "cell_type": "code",
      "source": [
        "# Separar características y etiqueta\n",
        "X = data.drop('salary', axis=1)\n",
        "y = data['salary']"
      ],
      "metadata": {
        "id": "6FYx_kf4CqyE"
      },
      "execution_count": null,
      "outputs": []
    },
    {
      "cell_type": "code",
      "source": [
        "# Dividir el dataset en entrenamiento y prueba\n",
        "X_train, X_test, y_train, y_test = train_test_split(X, y, test_size=0.2, random_state=42)"
      ],
      "metadata": {
        "id": "Q4B2JWmgCw5S"
      },
      "execution_count": null,
      "outputs": []
    },
    {
      "cell_type": "code",
      "source": [
        "# Normalizar los datos\n",
        "scaler = StandardScaler()\n",
        "X_train_scaled = scaler.fit_transform(X_train)\n",
        "X_test_scaled = scaler.transform(X_test)"
      ],
      "metadata": {
        "id": "S-jtksSKnA0h"
      },
      "execution_count": null,
      "outputs": []
    },
    {
      "cell_type": "code",
      "source": [
        "# Elegir un valor específico de k\n",
        "k = 221"
      ],
      "metadata": {
        "id": "_-pWc5tSnFyU"
      },
      "execution_count": null,
      "outputs": []
    },
    {
      "cell_type": "code",
      "source": [
        "# Aplicar k-NN con el valor de k seleccionado\n",
        "knn = KNeighborsClassifier(n_neighbors=k)\n",
        "knn.fit(X_train_scaled, y_train)\n",
        "y_pred_knn = knn.predict(X_test_scaled)"
      ],
      "metadata": {
        "id": "PAMpuq49Cx3n"
      },
      "execution_count": null,
      "outputs": []
    },
    {
      "cell_type": "code",
      "source": [
        "# Evaluación del modelo\n",
        "print(f'\\nk-NN with k={k}')\n",
        "print('Train Accuracy : %.5f' % knn.score(X_train_scaled, y_train))\n",
        "print('Test Accuracy : %.5f' % knn.score(X_test_scaled, y_test))\n",
        "print(\"Precisión del modelo:\", accuracy_score(y_test, y_pred_knn))"
      ],
      "metadata": {
        "colab": {
          "base_uri": "https://localhost:8080/"
        },
        "id": "NPlXwSCGC2_3",
        "outputId": "76cd20be-0b93-4d45-e05a-0bfff36087eb"
      },
      "execution_count": null,
      "outputs": [
        {
          "output_type": "stream",
          "name": "stdout",
          "text": [
            "\n",
            "k-NN with k=221\n",
            "Train Accuracy : 0.82781\n",
            "Test Accuracy : 0.82045\n",
            "Precisión del modelo: 0.8204524516327157\n"
          ]
        }
      ]
    }
  ]
}