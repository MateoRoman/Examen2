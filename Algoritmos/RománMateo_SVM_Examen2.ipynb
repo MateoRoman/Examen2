{
  "nbformat": 4,
  "nbformat_minor": 0,
  "metadata": {
    "colab": {
      "provenance": []
    },
    "kernelspec": {
      "name": "python3",
      "display_name": "Python 3"
    },
    "language_info": {
      "name": "python"
    }
  },
  "cells": [
    {
      "cell_type": "code",
      "execution_count": null,
      "metadata": {
        "id": "F75jEN61ADxk"
      },
      "outputs": [],
      "source": [
        "import pandas as pd\n",
        "import numpy as np\n",
        "from sklearn.model_selection import train_test_split\n",
        "from sklearn.preprocessing import StandardScaler\n",
        "from sklearn.svm import SVC\n",
        "from sklearn.metrics import accuracy_score"
      ]
    },
    {
      "cell_type": "code",
      "source": [
        "# Cargar el dataset procesado\n",
        "data = pd.read_csv('data_evaluacion_processed.csv')"
      ],
      "metadata": {
        "collapsed": true,
        "id": "LJiuC34XEwqT"
      },
      "execution_count": null,
      "outputs": []
    },
    {
      "cell_type": "code",
      "source": [
        "# Separar características y etiqueta\n",
        "X = data.drop('salary', axis=1)\n",
        "y = data['salary']"
      ],
      "metadata": {
        "id": "SMQ3dxJuE2Pe"
      },
      "execution_count": null,
      "outputs": []
    },
    {
      "cell_type": "code",
      "source": [
        "# Dividir los datos en conjuntos de entrenamiento y prueba\n",
        "X_train, X_test, y_train, y_test = train_test_split(X, y, test_size=0.3, random_state=42)"
      ],
      "metadata": {
        "id": "t8BRo_PeE5GK"
      },
      "execution_count": null,
      "outputs": []
    },
    {
      "cell_type": "code",
      "source": [
        "# Normalizar los datos\n",
        "scaler = StandardScaler()\n",
        "X_train_scaled = scaler.fit_transform(X_train)\n",
        "X_test_scaled = scaler.transform(X_test)"
      ],
      "metadata": {
        "id": "HSGzPbMSE8NO"
      },
      "execution_count": null,
      "outputs": []
    },
    {
      "cell_type": "code",
      "source": [
        "# Evaluar SVM con diferentes kernels\n",
        "kernels = ['linear', 'poly', 'rbf', 'sigmoid']\n",
        "for kernel in kernels:\n",
        "    svm = SVC(kernel=kernel)\n",
        "    svm.fit(X_train_scaled, y_train)\n",
        "    y_pred_svm = svm.predict(X_test_scaled)\n",
        "    print(f'SVM with {kernel} kernel Accuracy: {accuracy_score(y_test, y_pred_svm)}')"
      ],
      "metadata": {
        "id": "LACzIxudE_d5",
        "colab": {
          "base_uri": "https://localhost:8080/"
        },
        "outputId": "60636022-d018-40f0-8818-2410e65dff91"
      },
      "execution_count": null,
      "outputs": [
        {
          "output_type": "stream",
          "name": "stdout",
          "text": [
            "SVM with linear kernel Accuracy: 0.8109602129256808\n",
            "SVM with poly kernel Accuracy: 0.8414659114174572\n",
            "SVM with rbf kernel Accuracy: 0.8469255442571487\n",
            "SVM with sigmoid kernel Accuracy: 0.7558179212447963\n"
          ]
        }
      ]
    },
    {
      "cell_type": "code",
      "source": [
        "    # Evaluación del modelo\n",
        "    print(f'\\nSVM with {kernel} kernel')\n",
        "    print('Train Accuracy : %.5f' % svm.score(X_train_scaled, y_train))\n",
        "    print('Test Accuracy : %.5f' % svm.score(X_test_scaled, y_test))\n",
        "    print(\"Precisión del modelo:\", accuracy_score(y_test, y_pred_svm))"
      ],
      "metadata": {
        "colab": {
          "base_uri": "https://localhost:8080/"
        },
        "id": "9JWYmmR3lL19",
        "outputId": "c770972b-4a2b-4cfd-99e5-c3dc9e6ecb60"
      },
      "execution_count": null,
      "outputs": [
        {
          "output_type": "stream",
          "name": "stdout",
          "text": [
            "\n",
            "SVM with sigmoid kernel\n",
            "Train Accuracy : 0.75574\n",
            "Test Accuracy : 0.75582\n",
            "Precisión del modelo: 0.7558179212447963\n"
          ]
        }
      ]
    }
  ]
}