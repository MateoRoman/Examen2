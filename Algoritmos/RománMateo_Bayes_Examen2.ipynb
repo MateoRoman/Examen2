{
  "nbformat": 4,
  "nbformat_minor": 0,
  "metadata": {
    "colab": {
      "provenance": []
    },
    "kernelspec": {
      "name": "python3",
      "display_name": "Python 3"
    },
    "language_info": {
      "name": "python"
    }
  },
  "cells": [
    {
      "cell_type": "code",
      "execution_count": null,
      "metadata": {
        "id": "4wbpghZ7KGWn"
      },
      "outputs": [],
      "source": [
        "import pandas as pd\n",
        "import numpy as np\n",
        "from sklearn.model_selection import train_test_split\n",
        "from sklearn.preprocessing import StandardScaler\n",
        "from sklearn.naive_bayes import GaussianNB\n",
        "from sklearn.metrics import accuracy_score"
      ]
    },
    {
      "cell_type": "code",
      "source": [
        "# Cargar el dataset procesado\n",
        "data = pd.read_csv('data_evaluacion_processed.csv')"
      ],
      "metadata": {
        "id": "l292_Ob4KPaW"
      },
      "execution_count": null,
      "outputs": []
    },
    {
      "cell_type": "code",
      "source": [
        "# Separar características y etiqueta\n",
        "X = data.drop('salary', axis=1)\n",
        "y = data['salary']"
      ],
      "metadata": {
        "id": "za7dsEuXKR9O"
      },
      "execution_count": null,
      "outputs": []
    },
    {
      "cell_type": "code",
      "source": [
        "# Dividir el dataset en entrenamiento y prueba\n",
        "X_train, X_test, y_train, y_test = train_test_split(X, y, test_size=0.2, random_state=42)"
      ],
      "metadata": {
        "id": "58FMkG7VKVjE"
      },
      "execution_count": null,
      "outputs": []
    },
    {
      "cell_type": "code",
      "source": [
        "# Normalizar los datos\n",
        "scaler = StandardScaler()\n",
        "X_train_scaled = scaler.fit_transform(X_train)\n",
        "X_test_scaled = scaler.transform(X_test)"
      ],
      "metadata": {
        "id": "YYXHjEsGrb1G"
      },
      "execution_count": null,
      "outputs": []
    },
    {
      "cell_type": "code",
      "source": [
        "# Entrenar y evaluar el modelo de Naive Bayes\n",
        "nb = GaussianNB()\n",
        "nb.fit(X_train_scaled, y_train)\n",
        "y_pred_nb = nb.predict(X_test_scaled)"
      ],
      "metadata": {
        "id": "RibgD2d9rfdD"
      },
      "execution_count": null,
      "outputs": []
    },
    {
      "cell_type": "code",
      "source": [
        "# Evaluación del modelo\n",
        "print('\\nNaive Bayes')\n",
        "print('Train Accuracy : %.5f' % nb.score(X_train_scaled, y_train))\n",
        "print('Test Accuracy : %.5f' % nb.score(X_test_scaled, y_test))\n",
        "print(\"Precisión del modelo:\", accuracy_score(y_test, y_pred_nb))"
      ],
      "metadata": {
        "colab": {
          "base_uri": "https://localhost:8080/"
        },
        "id": "oo9E1Ya4KmIg",
        "outputId": "87f0f00d-7071-4568-df45-6f0f4d41491e"
      },
      "execution_count": null,
      "outputs": [
        {
          "output_type": "stream",
          "name": "stdout",
          "text": [
            "\n",
            "Naive Bayes\n",
            "Train Accuracy : 0.80565\n",
            "Test Accuracy : 0.80540\n",
            "Precisión del modelo: 0.8054048520831201\n"
          ]
        }
      ]
    }
  ]
}